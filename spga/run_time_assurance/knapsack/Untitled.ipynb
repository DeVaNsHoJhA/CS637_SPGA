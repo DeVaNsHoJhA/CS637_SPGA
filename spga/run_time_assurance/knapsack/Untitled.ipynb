{
 "cells": [
  {
   "cell_type": "code",
   "execution_count": 1,
   "id": "1bfb4fc0-ccc0-4684-bbae-473f18cfc39d",
   "metadata": {},
   "outputs": [],
   "source": [
    "import tensorflow as tf\n",
    "import os"
   ]
  },
  {
   "cell_type": "code",
   "execution_count": 2,
   "id": "22ce340c-0c1d-4bfd-9841-2523ad109454",
   "metadata": {},
   "outputs": [
    {
     "ename": "NameError",
     "evalue": "name 'optimizer' is not defined",
     "output_type": "error",
     "traceback": [
      "\u001b[0;31m---------------------------------------------------------------------------\u001b[0m",
      "\u001b[0;31mNameError\u001b[0m                                 Traceback (most recent call last)",
      "Input \u001b[0;32mIn [2]\u001b[0m, in \u001b[0;36m<cell line: 2>\u001b[0;34m()\u001b[0m\n\u001b[1;32m      1\u001b[0m ckpt_directory \u001b[38;5;241m=\u001b[39m \u001b[38;5;124m\"\u001b[39m\u001b[38;5;124m/trained_agents/knapsack_ppo_rta_seed-4_checkpoint-5/knapsack_ppo_rta_seed-4_checkpoint-5\u001b[39m\u001b[38;5;124m\"\u001b[39m\n\u001b[0;32m----> 2\u001b[0m ckpt \u001b[38;5;241m=\u001b[39m tf\u001b[38;5;241m.\u001b[39mtrain\u001b[38;5;241m.\u001b[39mCheckpoint(optimizer\u001b[38;5;241m=\u001b[39m\u001b[43moptimizer\u001b[49m, model\u001b[38;5;241m=\u001b[39mmodel)\n\u001b[1;32m      3\u001b[0m manager \u001b[38;5;241m=\u001b[39m tf\u001b[38;5;241m.\u001b[39mtrain\u001b[38;5;241m.\u001b[39mCheckpointManager(ckpt, ckpt_directory)\n\u001b[1;32m      4\u001b[0m train_and_checkpoint(model, manager)\n",
      "\u001b[0;31mNameError\u001b[0m: name 'optimizer' is not defined"
     ]
    }
   ],
   "source": [
    "ckpt_directory = \"/trained_agents/knapsack_ppo_rta_seed-4_checkpoint-5/knapsack_ppo_rta_seed-4_checkpoint-5\"\n",
    "ckpt = tf.train.Checkpoint(optimizer=optimizer, model=model)\n",
    "manager = tf.train.CheckpointManager(ckpt, ckpt_directory)\n",
    "train_and_checkpoint(model, manager)\n",
    "tf.train.list_variables(manager.latest_checkpoint)"
   ]
  },
  {
   "cell_type": "code",
   "execution_count": 4,
   "id": "64d6e7f9-370e-41d6-8acc-e2d6bd54d843",
   "metadata": {},
   "outputs": [
    {
     "name": "stdout",
     "output_type": "stream",
     "text": [
      "Unsuccessful TensorSliceReader constructor: Failed to find any matching files for /trained_agents/knapsack_ppo_rta_seed-4_checkpoint-5/knapsack_ppo_rta_seed-4_checkpoint-5\n"
     ]
    }
   ],
   "source": [
    "from tensorflow.python.tools.inspect_checkpoint import print_tensors_in_checkpoint_file\n",
    "import os\n",
    "\n",
    "# List ALL tensors example output: v0/Adam (DT_FLOAT) [3,3,1,80]\n",
    "print_tensors_in_checkpoint_file(file_name=ckpt_directory, tensor_name='', all_tensors='')\n",
    "\n",
    "# List contents of v0 tensor.\n",
    "# Example output: tensor_name:  v0 [[[[  9.27958265e-02   7.40226209e-02   4.52989563e-02   3.15700471e-02\n",
    "# print_tensors_in_checkpoint_file(file_name=checkpoint_path, tensor_name='v0')\n",
    "\n",
    "# # List contents of v1 tensor.\n",
    "# print_tensors_in_checkpoint_file(file_name=checkpoint_path, tensor_name='v1')"
   ]
  },
  {
   "cell_type": "code",
   "execution_count": null,
   "id": "3865fbb5-bfe0-4fda-a55e-26ea1567a8b1",
   "metadata": {},
   "outputs": [],
   "source": []
  }
 ],
 "metadata": {
  "kernelspec": {
   "display_name": "spga_test",
   "language": "python",
   "name": "spga_test"
  },
  "language_info": {
   "codemirror_mode": {
    "name": "ipython",
    "version": 3
   },
   "file_extension": ".py",
   "mimetype": "text/x-python",
   "name": "python",
   "nbconvert_exporter": "python",
   "pygments_lexer": "ipython3",
   "version": "3.8.12"
  }
 },
 "nbformat": 4,
 "nbformat_minor": 5
}
