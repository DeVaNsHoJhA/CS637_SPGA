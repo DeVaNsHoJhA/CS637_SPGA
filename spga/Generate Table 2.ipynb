{
 "cells": [
  {
   "cell_type": "markdown",
   "id": "5c024375-afb0-4731-b64d-a3cf7f7af6af",
   "metadata": {},
   "source": [
    "# Reproduce Geometric SpeedUp Table"
   ]
  },
  {
   "cell_type": "code",
   "execution_count": 1,
   "id": "c554a702-4968-4b06-bd8a-ecd06b7c274d",
   "metadata": {},
   "outputs": [],
   "source": [
    "import os\n",
    "import pandas as pd\n",
    "import numpy as np"
   ]
  },
  {
   "cell_type": "code",
   "execution_count": null,
   "id": "66aafc2a-e233-4e4a-99af-2df77f2340c4",
   "metadata": {},
   "outputs": [],
   "source": [
    "#define custom function\n",
    "def g_mean(x):\n",
    "    a = np.log(x)\n",
    "    return np.exp(a.mean())\n",
    "\n",
    "\n",
    "def get_speedup(path):\n",
    "    files = os.listdir(path)\n",
    "\n",
    "    data = {\"ga\":{}, \"ppo\":{}}\n",
    "    \n",
    "    for file in files:\n",
    "        if \"ipynb\" not in file and \"DS_Store\" not in file:\n",
    "            name = file.split(\"_\")[1]\n",
    "            if \"cpole\" in path:\n",
    "                size = file.split(\"-\")[-1].replace(\".pkl\", \"\")\n",
    "            else:\n",
    "                size = file.split(\"-\")[-1].split(\".\")[0]\n",
    "            result = {}\n",
    "            df = pd.read_pickle(path + file)\n",
    "            result[\"Time to Train\"] = round(df[\"avg_train_time\"], 2)\n",
    "            result[\"Time Std\"] = round(np.std(df[\"train_time\"]), 0)\n",
    "            # result[\"Expected Return\"] = round(df[\"mask_eval_reward\"], 2)\n",
    "            # result[\"Return Std\"] = round(np.std(df[\"ep_reward\"]), 0)\n",
    "            # result[\"Safe Actions\"] = round(df[\"mask_safe_rolls\"], 2)\n",
    "            data[name][size] = result\n",
    "    \n",
    "    s_stat = []\n",
    "    if \"cpole\" in path:\n",
    "        for i in [\"1.5\", \"1.25\", \"1.0\", \"0.75\", \"0.5\", \"0.25\"]:\n",
    "            s_stat.append(round(data[\"ppo\"][i][\"Time to Train\"]/data[\"ga\"][i][\"Time to Train\"], 2))\n",
    "    elif \"frolake\" in path:\n",
    "        for i in [\"8\", \"16\", \"32\"]:\n",
    "            s_stat.append(round(data[\"ppo\"][i][\"Time to Train\"]/data[\"ga\"][i][\"Time to Train\"], 2))\n",
    "    else:\n",
    "        for i in [\"5\", \"50\", \"100\"]:\n",
    "            s_stat.append(round(data[\"ppo\"][i][\"Time to Train\"]/data[\"ga\"][i][\"Time to Train\"], 2))\n",
    "    \n",
    "    return round(g_mean(s_stat), 2)  "
   ]
  },
  {
   "cell_type": "code",
   "execution_count": 31,
   "id": "f087e736",
   "metadata": {},
   "outputs": [],
   "source": [
    "f = \"run_time_assurance/knapsack/results/knapsack_ga_rta_seeded_results-5.pkl\""
   ]
  },
  {
   "cell_type": "code",
   "execution_count": 32,
   "id": "67014039",
   "metadata": {},
   "outputs": [],
   "source": [
    "df = pd.read_pickle(f)"
   ]
  },
  {
   "cell_type": "code",
   "execution_count": 33,
   "id": "ced1096f",
   "metadata": {},
   "outputs": [
    {
     "data": {
      "text/plain": [
       "{'avg_train_time': 1.0512,\n",
       " 'train_time': [1.0087580680847168,\n",
       "  0.9981081485748291,\n",
       "  1.026270866394043,\n",
       "  0.9573078155517578,\n",
       "  1.265521764755249],\n",
       " 'mask_eval_reward': 36.0,\n",
       " 'mask_safe_rolls': 100.0,\n",
       " 'mask_v_total': 0}"
      ]
     },
     "execution_count": 33,
     "metadata": {},
     "output_type": "execute_result"
    }
   ],
   "source": [
    "df"
   ]
  },
  {
   "cell_type": "code",
   "execution_count": null,
   "id": "1a19b86f-af79-4f0a-b179-b8b32a67ab76",
   "metadata": {},
   "outputs": [],
   "source": [
    "# create speedup dictionary to store values\n",
    "s_vals = {\n",
    "    \"cpole\":{},\n",
    "    \"frolake\":{}, \n",
    "    \"knapsack\":{}\n",
    "}\n",
    "\n",
    "# start with action mask\n",
    "am_path = \"./action_masking/\"\n",
    "rta_path = \"./run_time_assurance/\"\n",
    "\n",
    "walk = [rta_path, am_path]\n",
    "all_envs = []\n",
    "\n",
    "print(\"Geometric Mean xSpeedUp of SPGA vs. SRL\")\n",
    "print(\"--------------------------------------\")\n",
    "for i in s_vals.keys():\n",
    "    for way in walk:\n",
    "        path = way+i+\"/results/\"\n",
    "        x = get_speedup(path)\n",
    "        all_envs.append(x)\n",
    "        print(\"{} - {} SpeedUp: {}\".format(i, \"AM\" if way == am_path else \"RTA\", x))\n",
    "\n",
    "print(\"All Envs: {}\".format(round(g_mean(all_envs), 2)))"
   ]
  },
  {
   "cell_type": "code",
   "execution_count": null,
   "id": "1fbbadd5-2058-4759-8521-14b6e0e5944b",
   "metadata": {},
   "outputs": [],
   "source": []
  }
 ],
 "metadata": {
  "kernelspec": {
   "display_name": "rl_rta",
   "language": "python",
   "name": "rl_rta"
  },
  "language_info": {
   "codemirror_mode": {
    "name": "ipython",
    "version": 3
   },
   "file_extension": ".py",
   "mimetype": "text/x-python",
   "name": "python",
   "nbconvert_exporter": "python",
   "pygments_lexer": "ipython3",
   "version": "3.8.12"
  }
 },
 "nbformat": 4,
 "nbformat_minor": 5
}
