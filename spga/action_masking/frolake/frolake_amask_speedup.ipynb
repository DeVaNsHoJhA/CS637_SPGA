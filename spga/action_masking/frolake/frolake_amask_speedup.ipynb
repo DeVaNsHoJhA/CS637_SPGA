{
 "cells": [
  {
   "cell_type": "code",
   "execution_count": 1,
   "id": "5db8a041-ecb6-47f0-ba45-48fcf848a13e",
   "metadata": {},
   "outputs": [
    {
     "ename": "KeyError",
     "evalue": "'ep_reward'",
     "output_type": "error",
     "traceback": [
      "\u001b[0;31m---------------------------------------------------------------------------\u001b[0m",
      "\u001b[0;31mKeyError\u001b[0m                                  Traceback (most recent call last)",
      "Input \u001b[0;32mIn [1]\u001b[0m, in \u001b[0;36m<cell line: 15>\u001b[0;34m()\u001b[0m\n\u001b[1;32m     22\u001b[0m result[\u001b[38;5;124m\"\u001b[39m\u001b[38;5;124mTime Std\u001b[39m\u001b[38;5;124m\"\u001b[39m] \u001b[38;5;241m=\u001b[39m \u001b[38;5;28mround\u001b[39m(np\u001b[38;5;241m.\u001b[39mstd(df[\u001b[38;5;124m\"\u001b[39m\u001b[38;5;124mtrain_time\u001b[39m\u001b[38;5;124m\"\u001b[39m]), \u001b[38;5;241m0\u001b[39m)\n\u001b[1;32m     23\u001b[0m result[\u001b[38;5;124m\"\u001b[39m\u001b[38;5;124mExpected Return\u001b[39m\u001b[38;5;124m\"\u001b[39m] \u001b[38;5;241m=\u001b[39m \u001b[38;5;28mround\u001b[39m(df[\u001b[38;5;124m\"\u001b[39m\u001b[38;5;124mmask_eval_reward\u001b[39m\u001b[38;5;124m\"\u001b[39m], \u001b[38;5;241m2\u001b[39m)\n\u001b[0;32m---> 24\u001b[0m result[\u001b[38;5;124m\"\u001b[39m\u001b[38;5;124mReturn Std\u001b[39m\u001b[38;5;124m\"\u001b[39m] \u001b[38;5;241m=\u001b[39m \u001b[38;5;28mround\u001b[39m(np\u001b[38;5;241m.\u001b[39mstd(\u001b[43mdf\u001b[49m\u001b[43m[\u001b[49m\u001b[38;5;124;43m\"\u001b[39;49m\u001b[38;5;124;43mep_reward\u001b[39;49m\u001b[38;5;124;43m\"\u001b[39;49m\u001b[43m]\u001b[49m), \u001b[38;5;241m0\u001b[39m)\n\u001b[1;32m     25\u001b[0m result[\u001b[38;5;124m\"\u001b[39m\u001b[38;5;124mSafe Actions\u001b[39m\u001b[38;5;124m\"\u001b[39m] \u001b[38;5;241m=\u001b[39m \u001b[38;5;28mround\u001b[39m(df[\u001b[38;5;124m\"\u001b[39m\u001b[38;5;124mmask_safe_rolls\u001b[39m\u001b[38;5;124m\"\u001b[39m], \u001b[38;5;241m2\u001b[39m)\n\u001b[1;32m     26\u001b[0m data[name][size] \u001b[38;5;241m=\u001b[39m result\n",
      "\u001b[0;31mKeyError\u001b[0m: 'ep_reward'"
     ]
    }
   ],
   "source": [
    "import os\n",
    "import pandas as pd\n",
    "import numpy as np\n",
    "\n",
    "#define custom function\n",
    "def g_mean(x):\n",
    "    a = np.log(x)\n",
    "    return np.exp(a.mean())\n",
    "\n",
    "path = \"results/\"\n",
    "files = os.listdir(path)\n",
    "\n",
    "data = {\"ga\":{}, \"ppo\":{}, \"speedUp\":{}}\n",
    "\n",
    "for file in files:\n",
    "    if \"ipynb\" not in file:\n",
    "        name = file.split(\"_\")[1]\n",
    "        size = file.split(\"-\")[-1].split(\".\")[0]\n",
    "        result = {}\n",
    "        df = pd.read_pickle(path + file)\n",
    "        result[\"Time to Train\"] = round(df[\"avg_train_time\"], 2)\n",
    "        result[\"Time Std\"] = round(np.std(df[\"train_time\"]), 0)\n",
    "        result[\"Expected Return\"] = round(df[\"mask_eval_reward\"], 2)\n",
    "        result[\"Return Std\"] = round(np.std(df[\"ep_reward\"]), 0)\n",
    "        result[\"Safe Actions\"] = round(df[\"mask_safe_rolls\"], 2)\n",
    "        data[name][size] = result\n",
    "        \n",
    "for i in [\"8\", \"16\", \"32\"]:\n",
    "    data[\"speedUp\"][i] = round(data[\"ppo\"][i][\"Time to Train\"]/data[\"ga\"][i][\"Time to Train\"], 2)\n",
    "        \n",
    "ga_df = pd.DataFrame(data[\"ga\"]).transpose()\n",
    "ppo_df = pd.DataFrame(data[\"ppo\"]).transpose()\n",
    "# v_df = pd.DataFrame(data[\"speedUp\"]).transpose()\n",
    "\n",
    "print(\"GA Results\")\n",
    "print(\"------------------------\")\n",
    "print(ga_df)\n",
    "\n",
    "print(\"\\nPPO Results\")\n",
    "print(\"------------------------\")\n",
    "print(ppo_df)\n",
    "\n",
    "print(\"\\n Speed UP\")\n",
    "print(\"------------------------\")\n",
    "print(data[\"speedUp\"])\n",
    "\n",
    "print(\"\\n Geometric SpeedUp\")\n",
    "print(\"------------------------\")\n",
    "geo_stat = []\n",
    "for i in [\"8\", \"16\", \"32\"]:\n",
    "    geo_stat.append(data[\"speedUp\"][i])\n",
    "print(\"& \\\\textbf{\", round(g_mean(geo_stat), 2), \"}  \\\\\\\\ \\n\" )\n",
    "\n",
    "k = ga_df.keys()\n",
    "\n",
    "for i in [\"8\", \"16\", \"32\"]:\n",
    "    print(str(ga_df.loc[i, \"Time to Train\"]),\" $\\pm$ \" , str(ga_df.loc[i, \"Time Std\"]) , \" & \" , str(ga_df.loc[i, \"Expected Return\"]) , \" $\\pm$ \" , str(ga_df.loc[i, \"Return Std\"]) , \" & \" , str(ga_df.loc[i, \"Safe Actions\"]) ,\" & \" , str(ppo_df.loc[i, \"Time to Train\"]) , \" $\\pm$ \" , str(ppo_df.loc[i, \"Time Std\"]) , \" & \" , str(ppo_df.loc[i, \"Expected Return\"]) , \" $\\pm$ \" , str(ppo_df.loc[i, \"Return Std\"]) , \" & \",  str(ppo_df.loc[i, \"Safe Actions\"]) , \" & \\\\textbf{\" , data[\"speedUp\"][i] ,\"} \\\\\")\n",
    "          \n",
    "          "
   ]
  },
  {
   "cell_type": "code",
   "execution_count": null,
   "id": "6321e037-aa5c-43b0-bd5b-3cc8171fff21",
   "metadata": {},
   "outputs": [],
   "source": []
  }
 ],
 "metadata": {
  "kernelspec": {
   "display_name": "rl_rta",
   "language": "python",
   "name": "rl_rta"
  },
  "language_info": {
   "codemirror_mode": {
    "name": "ipython",
    "version": 3
   },
   "file_extension": ".py",
   "mimetype": "text/x-python",
   "name": "python",
   "nbconvert_exporter": "python",
   "pygments_lexer": "ipython3",
   "version": "3.8.12"
  }
 },
 "nbformat": 4,
 "nbformat_minor": 5
}
