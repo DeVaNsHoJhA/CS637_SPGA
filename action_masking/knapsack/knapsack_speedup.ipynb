{
 "cells": [
  {
   "cell_type": "markdown",
   "id": "f9d659bc-1658-4134-9f5c-91350b2cda84",
   "metadata": {},
   "source": [
    "# SPGA vs. SRL AM Knapsack SpeedUp"
   ]
  },
  {
   "cell_type": "code",
   "execution_count": null,
   "id": "a91b6da7-7a96-4a8d-a0bb-106a8420cdaa",
   "metadata": {},
   "outputs": [],
   "source": [
    "import os\n",
    "import pandas as pd\n",
    "import numpy as np\n",
    "\n",
    "#define custom function\n",
    "def g_mean(x):\n",
    "    a = np.log(x)\n",
    "    return np.exp(a.mean())\n",
    "\n",
    "\n",
    "path = \"results/\"\n",
    "files = os.listdir(path)\n",
    "\n",
    "data = {\"ga\":{}, \"ppo\":{}, \"speedUp\":{}}\n",
    "\n",
    "for file in files:\n",
    "    if \"ipynb\" not in file:\n",
    "        name = file.split(\"_\")[1]\n",
    "        size = file.split(\"-\")[-1].split(\".\")[0]\n",
    "        result = {}\n",
    "        df = pd.read_pickle(path + file)\n",
    "        result[\"Time to Train\"] = round(df[\"avg_train_time\"], 2)\n",
    "        result[\"Time Std\"] = round(np.std(df[\"train_time\"]), 0)\n",
    "        result[\"Expected Return\"] = round(df[\"mask_eval_reward\"], 2)\n",
    "        result[\"Return Std\"] = round(np.std(df[\"ep_reward\"]), 0)\n",
    "        result[\"Safe Actions\"] = round(df[\"mask_safe_rolls\"], 2)\n",
    "        data[name][size] = result\n",
    "        \n",
    "for i in [\"5\", \"50\", \"100\"]:\n",
    "    data[\"speedUp\"][i] = round(data[\"ppo\"][i][\"Time to Train\"]/data[\"ga\"][i][\"Time to Train\"], 2)\n",
    "        \n",
    "ga_df = pd.DataFrame(data[\"ga\"]).transpose()\n",
    "ppo_df = pd.DataFrame(data[\"ppo\"]).transpose()\n",
    "# v_df = pd.DataFrame(data[\"speedUp\"]).transpose()\n",
    "\n",
    "print(\"GA Results\")\n",
    "print(\"------------------------\")\n",
    "print(ga_df)\n",
    "\n",
    "print(\"\\nPPO Results\")\n",
    "print(\"------------------------\")\n",
    "print(ppo_df)\n",
    "\n",
    "print(\"\\n Speed UP\")\n",
    "print(\"------------------------\")\n",
    "print(data[\"speedUp\"])\n",
    "\n",
    "print(\"\\n Geometric SpeedUp\")\n",
    "print(\"------------------------\")\n",
    "geo_stat = []\n",
    "for i in [\"5\", \"50\", \"100\"]:\n",
    "    geo_stat.append(data[\"speedUp\"][i])\n",
    "print(\"& \\\\textbf{\", round(g_mean(geo_stat), 2), \"}  \\\\\\\\ \\n\" )\n",
    "\n",
    "k = ga_df.keys()\n",
    "\n",
    "for i in [\"5\", \"50\", \"100\"]:\n",
    "    print(str(ga_df.loc[i, \"Time to Train\"]),\" $\\pm$ \" , str(ga_df.loc[i, \"Time Std\"]) , \" & \" , str(ga_df.loc[i, \"Expected Return\"]) , \" $\\pm$ \" , str(ga_df.loc[i, \"Return Std\"]) , \" & \" , str(ga_df.loc[i, \"Safe Actions\"]) ,\" & \" , str(ppo_df.loc[i, \"Time to Train\"]) , \" $\\pm$ \" , str(ppo_df.loc[i, \"Time Std\"]) , \" & \" , str(ppo_df.loc[i, \"Expected Return\"]) , \" $\\pm$ \" , str(ppo_df.loc[i, \"Return Std\"]) , \" & \",  str(ppo_df.loc[i, \"Safe Actions\"]) , \" & \\\\textbf{\" , data[\"speedUp\"][i] ,\"} \\\\\")\n",
    "          \n",
    "          \n",
    "          \n",
    "          \n",
    "          \n",
    "          "
   ]
  }
 ],
 "metadata": {
  "kernelspec": {
   "display_name": "rl_rta",
   "language": "python",
   "name": "rl_rta"
  },
  "language_info": {
   "codemirror_mode": {
    "name": "ipython",
    "version": 3
   },
   "file_extension": ".py",
   "mimetype": "text/x-python",
   "name": "python",
   "nbconvert_exporter": "python",
   "pygments_lexer": "ipython3",
   "version": "3.8.12"
  }
 },
 "nbformat": 4,
 "nbformat_minor": 5
}
